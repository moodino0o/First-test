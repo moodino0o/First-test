{
 "cells": [
  {
   "cell_type": "markdown",
   "metadata": {},
   "source": [
    "# **List Comprehensions & While loops Exercises**\n",
    "\n",
    "---"
   ]
  },
  {
   "cell_type": "markdown",
   "metadata": {},
   "source": [
    "## **Guided Practice:** List Comprehensions\n",
    "\n",
    "---"
   ]
  },
  {
   "cell_type": "markdown",
   "metadata": {},
   "source": [
    "### Exercise 1\n",
    "\n",
    "<span style=\"color:green\">Use a list comprehension to create a list that divides each of the integers 0 through 9 by 4.</span>"
   ]
  },
  {
   "cell_type": "code",
   "execution_count": 2,
   "metadata": {},
   "outputs": [
    {
     "data": {
      "text/plain": [
       "[0.0, 0.25, 0.5, 0.75, 1.0, 1.25, 1.5, 1.75, 2.0, 2.25]"
      ]
     },
     "execution_count": 2,
     "metadata": {},
     "output_type": "execute_result"
    }
   ],
   "source": [
    "# your code here\n",
    "divide = [num/4 for num in range(0,10)]\n",
    "divide"
   ]
  },
  {
   "cell_type": "markdown",
   "metadata": {},
   "source": [
    "### Exercise 2\n",
    "\n",
    "<span style=\"color:green\">Use a list comprehension to concatenate the first and last character of each of the strings in the following list.</span>"
   ]
  },
  {
   "cell_type": "code",
   "execution_count": 5,
   "metadata": {},
   "outputs": [
    {
     "data": {
      "text/plain": [
       "['lt', 'cs', 'rk']"
      ]
     },
     "execution_count": 5,
     "metadata": {},
     "output_type": "execute_result"
    }
   ],
   "source": [
    "words = ['list', 'comprehensions', 'rock']\n",
    "# your code here\n",
    "\n",
    "concat = [word[0] + word[-1] for word in words]\n",
    "concat"
   ]
  },
  {
   "cell_type": "markdown",
   "metadata": {},
   "source": [
    "### Exercise 3\n",
    "\n",
    "<span style=\"color:green\">Use a conditional list comprehension to return all of the strings from a list of strings that have the letter 'e' in them.</span>"
   ]
  },
  {
   "cell_type": "code",
   "execution_count": 17,
   "metadata": {},
   "outputs": [
    {
     "data": {
      "text/plain": [
       "['comprehensions', 'are', 'Eat']"
      ]
     },
     "execution_count": 17,
     "metadata": {},
     "output_type": "execute_result"
    }
   ],
   "source": [
    "words = ['List', 'comprehensions', 'are', 'fantastic', 'Eat']\n",
    "# your code here\n",
    "\n",
    "ees = [word for word in words if 'e' in word or 'E' in word]\n",
    "ees\n"
   ]
  },
  {
   "cell_type": "markdown",
   "metadata": {},
   "source": [
    "### Exercise 4\n",
    "\n",
    "<span style=\"color:green\">Write a list comprehension that loops through all numbers between 0 and 50 (inclusive), filters them for those that are divisable by 3 and 5 and then squares the number.</span>"
   ]
  },
  {
   "cell_type": "code",
   "execution_count": 19,
   "metadata": {},
   "outputs": [
    {
     "data": {
      "text/plain": [
       "[0, 225, 900, 2025]"
      ]
     },
     "execution_count": 19,
     "metadata": {},
     "output_type": "execute_result"
    }
   ],
   "source": [
    "# your code here\n",
    "nums = [num**2 for num in range(0,51) if num%3 == 0 and num%5 == 0]\n",
    "nums"
   ]
  },
  {
   "cell_type": "markdown",
   "metadata": {},
   "source": [
    "## **List Comprehensions**\n",
    "\n",
    "---"
   ]
  },
  {
   "cell_type": "markdown",
   "metadata": {},
   "source": [
    "<div class=\"alert alert-warning\">\n",
    "    <h1 class=\"alert-heading\"><strong>Quick Exercises:</strong></h1>\n",
    "    <h3><i>List Comprehensions</i></h3>\n",
    "</div>"
   ]
  },
  {
   "cell_type": "markdown",
   "metadata": {},
   "source": [
    "### Exercise 1\n",
    "\n",
    "<span style=\"color:green\">Use a conditional list comprehension to return a list of just the vowels of the following string.</span>"
   ]
  },
  {
   "cell_type": "code",
   "execution_count": 21,
   "metadata": {},
   "outputs": [
    {
     "data": {
      "text/plain": [
       "['a', 'a', 'a', 'e', 'a', 'i', 'e', 'o', 'i', 'a']"
      ]
     },
     "execution_count": 21,
     "metadata": {},
     "output_type": "execute_result"
    }
   ],
   "source": [
    "letters = 'Aardvarks are native to Africa'\n",
    "# your code here\n",
    "vowels = [vowl for vowl in letters if vowl in 'aeiou']\n",
    "vowels"
   ]
  },
  {
   "cell_type": "markdown",
   "metadata": {},
   "source": [
    "### Exercise 2\n",
    "\n",
    "<span style=\"color:green\">Add <strong>\"simon says \"</strong> to all strings in this list.</span>"
   ]
  },
  {
   "cell_type": "code",
   "execution_count": 23,
   "metadata": {},
   "outputs": [
    {
     "data": {
      "text/plain": [
       "['simon says jump', 'simon says duck', 'simon says touch your toes']"
      ]
     },
     "execution_count": 23,
     "metadata": {},
     "output_type": "execute_result"
    }
   ],
   "source": [
    "commands = [\"jump\", \"duck\", \"touch your toes\"]\n",
    "# your code here\n",
    "\n",
    "sentence = [f'simon says {word}' for word in commands]\n",
    "sentence"
   ]
  },
  {
   "cell_type": "markdown",
   "metadata": {},
   "source": [
    "### Exercise 3\n",
    "\n",
    "<span style=\"color:green\">Add 15% to each number above 100, and don't include other numbers.</span>"
   ]
  },
  {
   "cell_type": "code",
   "execution_count": 28,
   "metadata": {},
   "outputs": [
    {
     "data": {
      "text/plain": [
       "[575.0, 143.75]"
      ]
     },
     "execution_count": 28,
     "metadata": {},
     "output_type": "execute_result"
    }
   ],
   "source": [
    "prices = [75, 500, 125, 20, 43]\n",
    "# your code here\n",
    "\n",
    "total = [num*1.15 for num in prices if num>100]\n",
    "total"
   ]
  },
  {
   "cell_type": "markdown",
   "metadata": {},
   "source": [
    "<div class=\"alert alert-success\">\n",
    "  <strong>Well done!</strong> You successfully completed the task.\n",
    "</div>"
   ]
  },
  {
   "cell_type": "markdown",
   "metadata": {},
   "source": [
    "## **Guided Practice:** While Loops\n",
    "\n",
    "---"
   ]
  },
  {
   "cell_type": "markdown",
   "metadata": {},
   "source": [
    "### Exercise 1\n",
    "\n",
    "<span style=\"color:green\">Use a while loop to count down from 5 to 0. Print 'Countdown Finished' after the loop ends.</span>"
   ]
  },
  {
   "cell_type": "code",
   "execution_count": 29,
   "metadata": {},
   "outputs": [
    {
     "name": "stdout",
     "output_type": "stream",
     "text": [
      "5\n",
      "4\n",
      "3\n",
      "2\n",
      "1\n",
      "0\n",
      "countdown finished\n"
     ]
    }
   ],
   "source": [
    "# your code here\n",
    "i=5\n",
    "while i>=0:\n",
    "    print(i)\n",
    "    i-=1\n",
    "print('countdown finished')"
   ]
  },
  {
   "cell_type": "markdown",
   "metadata": {},
   "source": [
    "### Exercise 2\n",
    "\n",
    "<span style=\"color:green\">Why does this loop code block never get executed?</span>"
   ]
  },
  {
   "cell_type": "code",
   "execution_count": 32,
   "metadata": {},
   "outputs": [
    {
     "name": "stdout",
     "output_type": "stream",
     "text": [
      "Countdown Finished\n"
     ]
    }
   ],
   "source": [
    "x = -100\n",
    "while x >= 0:\n",
    "    x -= 1 # x = x - 1\n",
    "    print(f'x is {x}')\n",
    "\n",
    "print ('Countdown Finished')\n",
    "\n",
    "#the condition is not met (x is not ge=reater than or equal to zero)"
   ]
  },
  {
   "cell_type": "markdown",
   "metadata": {},
   "source": [
    "### Exercise 3\n",
    "\n",
    "<span style=\"color:green\">Using while loop, construct a string consisting of 20 \"a\" characters in a row. Print the string.</span>\n",
    "\n",
    "<span style=\"color:red\"><strong>Hint:</strong></span> <span style=\"color:green\"> Use + to concatenate characters in each loop</span>"
   ]
  },
  {
   "cell_type": "code",
   "execution_count": 44,
   "metadata": {},
   "outputs": [
    {
     "name": "stdout",
     "output_type": "stream",
     "text": [
      "['a 1', 'a 2', 'a 3', 'a 4', 'a 5', 'a 6', 'a 7', 'a 8', 'a 9', 'a 10', 'a 11', 'a 12', 'a 13', 'a 14', 'a 15', 'a 16', 'a 17', 'a 18', 'a 19', 'a 20']\n"
     ]
    }
   ],
   "source": [
    "# your code here\n",
    "i=1\n",
    "n=[]\n",
    "while i<=20:\n",
    "    n.append(f'a {i}')\n",
    "    i+=1\n",
    "\n",
    "print(n)"
   ]
  },
  {
   "cell_type": "markdown",
   "metadata": {},
   "source": [
    "## More looping control with `continue` and `break`\n",
    "\n",
    "The keywords `continue` and `break` can only be used inside the body of a loop\n",
    "\n",
    "* They are not objects, cannot assign them to variables\n",
    "* `continue` - forces execution to return to the top of the loop for the next iteration\n",
    "* `break` - exits the loop immediately without any other execution\n"
   ]
  },
  {
   "cell_type": "markdown",
   "metadata": {},
   "source": [
    "### Exercise 4\n",
    "\n",
    "<span style=\"color:green\">Print all numbers between 1 and 99 (inclusive). Skip numbers that are divisible by 2, 3, or 5</span>"
   ]
  },
  {
   "cell_type": "code",
   "execution_count": 1,
   "metadata": {},
   "outputs": [
    {
     "name": "stdout",
     "output_type": "stream",
     "text": [
      "1\n",
      "7\n",
      "11\n",
      "13\n",
      "17\n",
      "19\n",
      "23\n",
      "29\n",
      "31\n",
      "37\n",
      "41\n",
      "43\n",
      "47\n",
      "49\n",
      "53\n",
      "59\n",
      "61\n",
      "67\n",
      "71\n",
      "73\n",
      "77\n",
      "79\n",
      "83\n",
      "89\n",
      "91\n",
      "97\n"
     ]
    }
   ],
   "source": [
    "# your code here\n",
    "\n",
    "num =1\n",
    "\n",
    "while num<100:\n",
    "    if num%2 == 0 or num%3 == 0 or num%5 == 0:\n",
    "        num+=1\n",
    "        continue \n",
    "        \n",
    "    print(num)\n",
    "    num+=1\n",
    "\n",
    "\n",
    "for num in range(1,100):\n",
    "    if num%2 == 0 or num%3 == 0 or num%5 == 0:\n",
    "        continue \n",
    "    print(num)"
   ]
  },
  {
   "cell_type": "markdown",
   "metadata": {},
   "source": [
    "### Exercise 5\n",
    "\n",
    "<span style=\"color:green\">Print all numbers between 1 and 99 (inclusive). Break the loop when you find the first number that is divisible by 2, 3, and 5. After the loop ends, display the first number that met the condition by printing the message: <strong>'The first integer divisible by 2, 3, and 5 is {variable}'</strong></span>"
   ]
  },
  {
   "cell_type": "code",
   "execution_count": 3,
   "metadata": {},
   "outputs": [
    {
     "name": "stdout",
     "output_type": "stream",
     "text": [
      "The first integer divisible by 2,3 and 5 is  30\n"
     ]
    }
   ],
   "source": [
    "# your code here\n",
    "\n",
    "for num in range (1,100):\n",
    "    if num%2 == 0 and num%3 == 0 and num%5 == 0:\n",
    "        print('The first integer divisible by 2,3 and 5 is ',num)\n",
    "        break"
   ]
  },
  {
   "cell_type": "markdown",
   "metadata": {},
   "source": [
    "## `while True` then `break`\n",
    "\n",
    "Alternative way to write a `while` loop\n",
    "* while True → loop keeps running indefinitely\n",
    "* break → stops the loop when a specific condition is met"
   ]
  },
  {
   "cell_type": "markdown",
   "metadata": {},
   "source": [
    "### Exercise 6\n",
    "\n",
    "<span style=\"color:green\">Write a Python program that repeatedly asks the user to enter a password.</span>\n",
    "\n",
    "<span style=\"color:green\">If the user enters <strong>\"secret123\"</strong>, print <strong>\"Access granted!\"</strong> and stop the loop.</span>\n",
    "\n",
    "<span style=\"color:green\">Otherwise, print <strong>\"Try again.\"</strong> and continue asking until the correct password is entered.</span>"
   ]
  },
  {
   "cell_type": "code",
   "execution_count": 1,
   "metadata": {},
   "outputs": [
    {
     "name": "stdin",
     "output_type": "stream",
     "text": [
      "enter the password:  mood\n"
     ]
    },
    {
     "name": "stdout",
     "output_type": "stream",
     "text": [
      "Idiot, try again :(\n"
     ]
    },
    {
     "name": "stdin",
     "output_type": "stream",
     "text": [
      "enter the password:  secret123\n"
     ]
    },
    {
     "name": "stdout",
     "output_type": "stream",
     "text": [
      "Access granted!\n"
     ]
    },
    {
     "name": "stdout",
     "output_type": "stream",
     "text": [
      "Enter password:  secret123\n"
     ]
    },
    {
     "name": "stdout",
     "output_type": "stream",
     "text": [
      "Access granted!\n"
     ]
    }
   ],
   "source": [
    "# your code here\n",
    "password = input('enter the password: ')\n",
    "\n",
    "while True:\n",
    "    if password == 'secret123':\n",
    "        print('Access granted!')\n",
    "        break\n",
    "    else:\n",
    "        print('Idiot, try again :(')\n",
    "        password = input('enter the password: ')\n",
    "        "
   ]
  },
  {
   "cell_type": "markdown",
   "metadata": {},
   "source": [
    "### Exercise 7\n",
    "\n",
    "<span style=\"color:green\">Write a Python program that asks the user to enter a password. The user has a maximum of <strong>3 attempts</strong> to enter the correct password <strong>\"secret123\"</strong>.</span>\n",
    "\n",
    "<span style=\"color:green\">If the correct password is entered, print <strong>\"Access granted!\"</strong> and stop the loop.</span>\n",
    "\n",
    "<span style=\"color:green\">If the user fails to enter the correct password after 3 tries, print <strong>\"Too many attempts — access denied.\"</strong></span>"
   ]
  },
  {
   "cell_type": "code",
   "execution_count": 18,
   "metadata": {},
   "outputs": [
    {
     "name": "stdin",
     "output_type": "stream",
     "text": [
      "enter the password:  secret123\n"
     ]
    },
    {
     "name": "stdout",
     "output_type": "stream",
     "text": [
      "Access granted!\n"
     ]
    }
   ],
   "source": [
    "# your code here\n",
    "password = input('enter the password: ')\n",
    "\n",
    "for attempt in range(2):\n",
    "\n",
    "    if password == 'secret123':\n",
    "        print('Access granted!')\n",
    "        break\n",
    "    else:\n",
    "        print('Idiot, try again :(')\n",
    "        password = input('enter the password: ')\n",
    "else:\n",
    "    print(\"Too many attempts — access denied.\")\n",
    "    \n"
   ]
  },
  {
   "cell_type": "markdown",
   "metadata": {},
   "source": [
    "<div class=\"alert alert-warning\">\n",
    "    <h1 class=\"alert-heading\"><strong>Quick Exercises:</strong></h1>\n",
    "    <h3><i>While Loops</i></h3>\n",
    "</div>"
   ]
  },
  {
   "cell_type": "markdown",
   "metadata": {},
   "source": [
    "## **While Loops**\n",
    "\n",
    "---"
   ]
  },
  {
   "cell_type": "markdown",
   "metadata": {},
   "source": [
    "### Exercise 1\n",
    "\n",
    "<span style=\"color:green\">Use a while loop to sum the integers from 1 to 100 inclusively.</span>"
   ]
  },
  {
   "cell_type": "code",
   "execution_count": 20,
   "metadata": {},
   "outputs": [
    {
     "data": {
      "text/plain": [
       "5050"
      ]
     },
     "execution_count": 20,
     "metadata": {},
     "output_type": "execute_result"
    }
   ],
   "source": [
    "# your code here\n",
    "summ = 0\n",
    "i = 0\n",
    "while i<=100:\n",
    "    summ +=i\n",
    "    i+=1\n",
    "\n",
    "summ\n",
    "\n",
    "\n"
   ]
  },
  {
   "cell_type": "markdown",
   "metadata": {},
   "source": [
    "### Exercise 2\n",
    "\n",
    "<span style=\"color:green\">Write a while loop which prints <strong>'inside loop'</strong> each time it runs through the loop for 10 times. Don't forget to limit the number of times you want to run through the loop.</span>"
   ]
  },
  {
   "cell_type": "code",
   "execution_count": 22,
   "metadata": {},
   "outputs": [
    {
     "name": "stdout",
     "output_type": "stream",
     "text": [
      "inside loop\n",
      "inside loop\n",
      "inside loop\n",
      "inside loop\n",
      "inside loop\n",
      "inside loop\n",
      "inside loop\n",
      "inside loop\n",
      "inside loop\n",
      "inside loop\n"
     ]
    }
   ],
   "source": [
    "# your code here\n",
    "\n",
    "i = 0\n",
    "\n",
    "while i < 10:\n",
    "    print(\"inside loop\")\n",
    "    i += 1"
   ]
  },
  {
   "cell_type": "markdown",
   "metadata": {},
   "source": [
    "### Exercise 3\n",
    "\n",
    "<span style=\"color:green\">Write a while loop that removes in each traversal the last element from my_list and stops as soon as `my_list` is empty. Print each removal of an item and print the message <strong>\"{my_list} now the list is empty\"</strong> at the end when the list is empty.</span>\n",
    "\n",
    "<span style=\"color:red\"><strong>Hint1:</strong></span> <span style=\"color:green\"> You can use `.pop()` function to remove the last item in a list.</span>\n",
    "\n",
    "<span style=\"color:red\"><strong>Hint2:</strong></span> <span style=\"color:green\">An empty list returns `False` and it returns `True` if there is an item inside the list.</span>"
   ]
  },
  {
   "cell_type": "code",
   "execution_count": 59,
   "metadata": {},
   "outputs": [
    {
     "name": "stdout",
     "output_type": "stream",
     "text": [
      "9\n",
      "8\n",
      "7\n",
      "6\n",
      "5\n",
      "4\n",
      "3\n",
      "2\n",
      "1\n"
     ]
    },
    {
     "data": {
      "text/plain": [
       "'[] now the list is empty'"
      ]
     },
     "execution_count": 59,
     "metadata": {},
     "output_type": "execute_result"
    }
   ],
   "source": [
    "my_list = [1,2,3,4,5,6,7,8,9]\n",
    "i=0\n",
    "len1 = len(my_list)-1\n",
    "# your code here\n",
    "while i <= len1:\n",
    "    print(my_list.pop())\n",
    "    i+=1\n",
    "    \n",
    "f'{my_list} now the list is empty'"
   ]
  },
  {
   "cell_type": "code",
   "execution_count": 66,
   "metadata": {},
   "outputs": [
    {
     "name": "stdout",
     "output_type": "stream",
     "text": [
      "9\n",
      "8\n",
      "7\n",
      "6\n",
      "5\n",
      "4\n",
      "3\n",
      "2\n",
      "1\n"
     ]
    },
    {
     "data": {
      "text/plain": [
       "'[] now the list is empty'"
      ]
     },
     "execution_count": 66,
     "metadata": {},
     "output_type": "execute_result"
    }
   ],
   "source": [
    "my_list = [1,2,3,4,5,6,7,8,9]\n",
    "i=0\n",
    "\n",
    "# your code here\n",
    "while my_list:\n",
    "    print(my_list.pop())\n",
    "    i+=1\n",
    "    \n",
    "    \n",
    "    \n",
    "f'{my_list} now the list is empty'"
   ]
  },
  {
   "cell_type": "code",
   "execution_count": 44,
   "metadata": {},
   "outputs": [
    {
     "data": {
      "text/plain": [
       "[]"
      ]
     },
     "execution_count": 44,
     "metadata": {},
     "output_type": "execute_result"
    }
   ],
   "source": [
    "my_list"
   ]
  },
  {
   "cell_type": "markdown",
   "metadata": {},
   "source": [
    "### Exercise 4\n",
    "\n",
    "<span style=\"color:green\">Use a while loop to find the sum of all integers between 0 and a given integer `x`. Output result.</span>"
   ]
  },
  {
   "cell_type": "code",
   "execution_count": 43,
   "metadata": {},
   "outputs": [
    {
     "name": "stdout",
     "output_type": "stream",
     "text": [
      "210\n"
     ]
    }
   ],
   "source": [
    "x = 20\n",
    "# your code here\n",
    "i = 0\n",
    "summ = 0\n",
    "while i <= x:\n",
    "    summ += i\n",
    "    i += 1\n",
    "    \n",
    "print(summ)"
   ]
  },
  {
   "cell_type": "markdown",
   "metadata": {},
   "source": [
    "### Exercise 5\n",
    "\n",
    "<span style=\"color:green\">Print all numbers between 1 and 200 (inclusive). Break the loop when you find the first number that is divisible by 7 and 9. After the loop ends, display the first number that met the condition by printing the message: <strong>'The first number divisible by both 7 and 9 is {variable}'</strong></span>"
   ]
  },
  {
   "cell_type": "code",
   "execution_count": 94,
   "metadata": {},
   "outputs": [
    {
     "name": "stdout",
     "output_type": "stream",
     "text": [
      "The first number divisible by both 7 and 9 is 63\n"
     ]
    }
   ],
   "source": [
    "# your code here\n",
    "number = 200\n",
    "for i in range(1,number):\n",
    "    if i%7==0 and i%9 == 0:\n",
    "        print( f'The first number divisible by both 7 and 9 is {i}')\n",
    "        break"
   ]
  },
  {
   "cell_type": "markdown",
   "metadata": {},
   "source": [
    "### Exercise 6\n",
    "\n",
    "<span style=\"color:green\">More while loops challenges!</span>"
   ]
  },
  {
   "cell_type": "code",
   "execution_count": 68,
   "metadata": {},
   "outputs": [
    {
     "name": "stdout",
     "output_type": "stream",
     "text": [
      "0\n",
      "1\n",
      "2\n",
      "3\n",
      "4\n",
      "5\n",
      "6\n",
      "7\n",
      "8\n",
      "9\n",
      "10\n",
      "countdown finished\n"
     ]
    }
   ],
   "source": [
    "# A. Use a while loop to count up from 0 to 10. Print 'Countdown Finished' after the loop ends.\n",
    "\n",
    "# your code here\n",
    "i=0\n",
    "while i<=10:\n",
    "    print(i)\n",
    "    i+=1\n",
    "print('countdown finished')\n",
    "\n",
    "\n"
   ]
  },
  {
   "cell_type": "code",
   "execution_count": 75,
   "metadata": {},
   "outputs": [
    {
     "data": {
      "text/plain": [
       "['bike', 'generator', 'tools', 'car', 'mess']"
      ]
     },
     "execution_count": 75,
     "metadata": {},
     "output_type": "execute_result"
    }
   ],
   "source": [
    "# B. Spring cleaning: using while loop, remove all instances of \"mess\" from the garage list\n",
    "# Print the list.\n",
    "# #    Hint: Use the in operator to check if \"mess\" is still in the list, and .remove() to get rid of it\n",
    "garage = [\"bike\", \"mess\", \"generator\", \"mess\", \"mess\", \"tools\", \"car\", \"mess\"]\n",
    "i = 0\n",
    "# your code here\n",
    "for word in garage:\n",
    "    if word == 'mess':\n",
    "        garage.remove(word)\n",
    "    i+=1\n",
    "garage"
   ]
  },
  {
   "cell_type": "code",
   "execution_count": 5,
   "metadata": {},
   "outputs": [
    {
     "name": "stdout",
     "output_type": "stream",
     "text": [
      "['bike', 'mess', 'generator', 'mess', 'mess', 'tools', 'car', 'mess']\n"
     ]
    },
    {
     "data": {
      "text/plain": [
       "['bike', 'generator', 'tools', 'car']"
      ]
     },
     "execution_count": 5,
     "metadata": {},
     "output_type": "execute_result"
    }
   ],
   "source": [
    "# B. Spring cleaning: using while loop, remove all instances of \"mess\" from the garage list\n",
    "# Print the list.\n",
    "# #    Hint: Use the in operator to check if \"mess\" is still in the list, and .remove() to get rid of it\n",
    "garage = [\"bike\", \"mess\", \"generator\", \"mess\", \"mess\", \"tools\", \"car\", \"mess\"]\n",
    "print(garage)\n",
    "# your code here\n",
    "while 'mess' in garage:\n",
    "    garage.remove('mess')\n",
    "garage"
   ]
  },
  {
   "cell_type": "markdown",
   "metadata": {},
   "source": [
    "## **Hold on to Your Loops!**\n",
    "---\n",
    "### Use any variety of loop for the following challenges"
   ]
  },
  {
   "cell_type": "code",
   "execution_count": 14,
   "metadata": {},
   "outputs": [
    {
     "name": "stdout",
     "output_type": "stream",
     "text": [
      " A!\n",
      " h!\n",
      " m!\n",
      " e!\n",
      " d!\n",
      "Gooo Ahmed!\n",
      " O!\n",
      " m!\n",
      " a!\n",
      " r!\n",
      "Gooo Omar!\n",
      " N!\n",
      " a!\n",
      " w!\n",
      " a!\n",
      " f!\n",
      "Gooo Nawaf!\n"
     ]
    }
   ],
   "source": [
    "# B. As a superfan, you want to chant each of the player's names in the following format:\n",
    "#    1. Spell out their name with a separate print statement for each letter, followed by an exclamation point\n",
    "#    2. Then, print the message \"Goooo _______!\" by inserting the full name in the blank\n",
    "players = [\"Ahmed\", \"Omar\", \"Nawaf\"]\n",
    "len1 = len(players)\n",
    "i=0\n",
    "name = []\n",
    "while i < len1:\n",
    "    for letter in players[i]:\n",
    "        print(f' {letter}!')\n",
    "    print(f'Gooo {players[i]}!')\n",
    "    i+=1\n",
    "    \n",
    "# your code here\n"
   ]
  },
  {
   "cell_type": "code",
   "execution_count": 15,
   "metadata": {},
   "outputs": [
    {
     "name": "stdout",
     "output_type": "stream",
     "text": [
      "A h m e d Gooo Ahmed!\n",
      "O m a r Gooo Omar!\n",
      "N a w a f Gooo Nawaf!\n"
     ]
    }
   ],
   "source": [
    "players = [\"Ahmed\", \"Omar\", \"Nawaf\"]\n",
    "len1 = len(players)\n",
    "i=0\n",
    "name = []\n",
    "while i < len1:\n",
    "    for letter in players[i]:\n",
    "        print(letter,end=' ')\n",
    "    print(f'Gooo {players[i]}!')\n",
    "    i+=1\n",
    "    "
   ]
  },
  {
   "cell_type": "code",
   "execution_count": 59,
   "metadata": {},
   "outputs": [
    {
     "name": "stdout",
     "output_type": "stream",
     "text": [
      "Don Manuel  has the following flavors:\n",
      "\t\t\t\t\tcocoa\n",
      "\t\t\t\t\tlime\n",
      "\t\t\t\t\tcinnamon\n",
      "Gitwe Washed  has the following flavors:\n",
      "\t\t\t\t\tgrapefruit\n",
      "\t\t\t\t\thibiscus\n",
      "\t\t\t\t\thoney\n"
     ]
    }
   ],
   "source": [
    "# C. Customers want to know the flavors of each coffee. Use separate print statements in the following format:\n",
    "#    First, print \"_______ has the following flavors\" using the coffee name in the blank\n",
    "#    Then, print each flavor inside the coffee's flavor list\n",
    "coffee_blends = [\n",
    "    {\"name\": \"Don Manuel\", \"flavors\": [\"cocoa\", \"lime\", \"cinnamon\"]},\n",
    "    {\"name\": \"Gitwe Washed\", \"flavors\": [\"grapefruit\", \"hibiscus\", \"honey\"]}\n",
    "]\n",
    "\n",
    "coffee_blends[1]['name']\n",
    "# your code here\n",
    "for dic in coffee_blends:\n",
    "    print(dic['name'],' has the following flavors:')\n",
    "    for flav in dic['flavors']:\n",
    "        print('\\t\\t\\t\\t\\t'+flav)"
   ]
  },
  {
   "cell_type": "code",
   "execution_count": 62,
   "metadata": {},
   "outputs": [
    {
     "name": "stdout",
     "output_type": "stream",
     "text": [
      "Don Manuel has the following flavors:cocoa\n",
      "\t\t\t\t\tlime\n",
      "\t\t\t\t\tcinnamon\n",
      "Gitwe Washed has the following flavors:grapefruit\n",
      "\t\t\t\t\thibiscus\n",
      "\t\t\t\t\thoney\n"
     ]
    }
   ],
   "source": [
    "coffee_blends = [\n",
    "    {\"name\": \"Don Manuel\", \"flavors\": [\"cocoa\", \"lime\", \"cinnamon\"]},\n",
    "    {\"name\": \"Gitwe Washed\", \"flavors\": [\"grapefruit\", \"hibiscus\", \"honey\"]}\n",
    "]\n",
    "\n",
    "coffee_blends[1]['name']\n",
    "# your code here\n",
    "for dic in coffee_blends:\n",
    "    print(f'{dic['name']} has the following flavors: {'\\n\\t\\t\\t\\t\\t'.join(dic['flavors'])}')\n",
    "    # for flav in dic['flavors']:\n",
    "        # print(flav)"
   ]
  },
  {
   "cell_type": "code",
   "execution_count": 93,
   "metadata": {},
   "outputs": [
    {
     "name": "stdout",
     "output_type": "stream",
     "text": [
      "you can purchase mountain bike & tambourine & massage chair with a total of $1125\n"
     ]
    }
   ],
   "source": [
    "# D. Shop till you've dropped 1000 dollars! Add each item to the purchases list until the total price exceeds 1000\n",
    "store = [\n",
    "    {\"item\": \"mountain bike\", \"price\": 375},\n",
    "    {\"item\": \"tambourine\", \"price\": 50},\n",
    "    {\"item\": \"massage chair\", \"price\": 700},\n",
    "    {\"item\": \"worlds best programmer mug\", \"price\": 10},\n",
    "    {\"item\": \"new computer\", \"price\": 1500}\n",
    "]\n",
    "purchases = []\n",
    "total_price = 0\n",
    "i=0\n",
    "# your code here\n",
    "while total_price <= 1000:\n",
    "    purchases.append(store[i]['item'])\n",
    "    total_price += store[i]['price']\n",
    "    i+=1 \n",
    "print(f'you can purchase {' & '.join(purchases)} with a total of ${total_price}')\n"
   ]
  },
  {
   "cell_type": "code",
   "execution_count": 97,
   "metadata": {},
   "outputs": [
    {
     "name": "stdout",
     "output_type": "stream",
     "text": [
      "The first number divisible by both 7 and 9 is 63\n",
      "The first number divisible by both 7 and 9 is 126\n",
      "The first number divisible by both 7 and 9 is 189\n"
     ]
    }
   ],
   "source": [
    "# E. Loop from 1 to 200. \n",
    "# Stop the loop when you find the first number divisible by both 7 and 9. \n",
    "# Display the first number that met the condition by printing the message: \n",
    "# 'The first number divisible by both 7 and 9 is {variable}'\n",
    "\n",
    "# your code here\n",
    "\n",
    "number = 200\n",
    "for i in range(1,number+1):\n",
    "    if i%7==0 and i%9 == 0:\n",
    "        print( f'The first number divisible by both 7 and 9 is {i}')\n",
    "        break"
   ]
  },
  {
   "cell_type": "code",
   "execution_count": 104,
   "metadata": {},
   "outputs": [
    {
     "name": "stdout",
     "output_type": "stream",
     "text": [
      "1\n",
      "1 x 1 = 1\n",
      "1 x 2 = 2\n",
      "1 x 3 = 3\n",
      "1 x 4 = 4\n",
      "1 x 5 = 5\n",
      "1 x 6 = 6\n",
      "1 x 7 = 7\n",
      "1 x 8 = 8\n",
      "1 x 9 = 9\n",
      "1 x 10 = 10\n",
      "------------------\n",
      "2\n",
      "2 x 1 = 2\n",
      "2 x 2 = 4\n",
      "2 x 3 = 6\n",
      "2 x 4 = 8\n",
      "2 x 5 = 10\n",
      "2 x 6 = 12\n",
      "2 x 7 = 14\n",
      "2 x 8 = 16\n",
      "2 x 9 = 18\n",
      "2 x 10 = 20\n",
      "------------------\n",
      "3\n",
      "3 x 1 = 3\n",
      "3 x 2 = 6\n",
      "3 x 3 = 9\n",
      "3 x 4 = 12\n",
      "3 x 5 = 15\n",
      "3 x 6 = 18\n",
      "3 x 7 = 21\n",
      "3 x 8 = 24\n",
      "3 x 9 = 27\n",
      "3 x 10 = 30\n",
      "------------------\n",
      "4\n",
      "4 x 1 = 4\n",
      "4 x 2 = 8\n",
      "4 x 3 = 12\n",
      "4 x 4 = 16\n",
      "4 x 5 = 20\n",
      "4 x 6 = 24\n",
      "4 x 7 = 28\n",
      "4 x 8 = 32\n",
      "4 x 9 = 36\n",
      "4 x 10 = 40\n",
      "------------------\n",
      "5\n",
      "5 x 1 = 5\n",
      "5 x 2 = 10\n",
      "5 x 3 = 15\n",
      "5 x 4 = 20\n",
      "5 x 5 = 25\n",
      "5 x 6 = 30\n",
      "5 x 7 = 35\n",
      "5 x 8 = 40\n",
      "5 x 9 = 45\n",
      "5 x 10 = 50\n",
      "------------------\n",
      "6\n",
      "6 x 1 = 6\n",
      "6 x 2 = 12\n",
      "6 x 3 = 18\n",
      "6 x 4 = 24\n",
      "6 x 5 = 30\n",
      "6 x 6 = 36\n",
      "6 x 7 = 42\n",
      "6 x 8 = 48\n",
      "6 x 9 = 54\n",
      "6 x 10 = 60\n",
      "------------------\n",
      "7\n",
      "7 x 1 = 7\n",
      "7 x 2 = 14\n",
      "7 x 3 = 21\n",
      "7 x 4 = 28\n",
      "7 x 5 = 35\n",
      "7 x 6 = 42\n",
      "7 x 7 = 49\n",
      "7 x 8 = 56\n",
      "7 x 9 = 63\n",
      "7 x 10 = 70\n",
      "------------------\n",
      "8\n",
      "8 x 1 = 8\n",
      "8 x 2 = 16\n",
      "8 x 3 = 24\n",
      "8 x 4 = 32\n",
      "8 x 5 = 40\n",
      "8 x 6 = 48\n",
      "8 x 7 = 56\n",
      "8 x 8 = 64\n",
      "8 x 9 = 72\n",
      "8 x 10 = 80\n",
      "------------------\n",
      "9\n",
      "9 x 1 = 9\n",
      "9 x 2 = 18\n",
      "9 x 3 = 27\n",
      "9 x 4 = 36\n",
      "9 x 5 = 45\n",
      "9 x 6 = 54\n",
      "9 x 7 = 63\n",
      "9 x 8 = 72\n",
      "9 x 9 = 81\n",
      "9 x 10 = 90\n",
      "------------------\n",
      "10\n",
      "10 x 1 = 10\n",
      "10 x 2 = 20\n",
      "10 x 3 = 30\n",
      "10 x 4 = 40\n",
      "10 x 5 = 50\n",
      "10 x 6 = 60\n",
      "10 x 7 = 70\n",
      "10 x 8 = 80\n",
      "10 x 9 = 90\n",
      "10 x 10 = 100\n",
      "------------------\n"
     ]
    }
   ],
   "source": [
    "# F. Create a Multiplication Table by Looping from 1 to 10.\n",
    "# For each number i, print its value on a separate line, \n",
    "# and then print all the products of i * j in the format: i * j = result\n",
    "# Print a '--------------' line seperator between each table and the other\n",
    "\n",
    "# your code here\n",
    "for i in range(1,11):\n",
    "    print(i)\n",
    "    for j in range(1,11):\n",
    "        print(i,'x',j,'=',i*j)\n",
    "    print('------------------')\n",
    "    "
   ]
  },
  {
   "cell_type": "code",
   "execution_count": null,
   "metadata": {},
   "outputs": [],
   "source": []
  }
 ],
 "metadata": {
  "anaconda-cloud": {},
  "kernelspec": {
   "display_name": "Python 3 (ipykernel)",
   "language": "python",
   "name": "python3"
  },
  "language_info": {
   "codemirror_mode": {
    "name": "ipython",
    "version": 3
   },
   "file_extension": ".py",
   "mimetype": "text/x-python",
   "name": "python",
   "nbconvert_exporter": "python",
   "pygments_lexer": "ipython3",
   "version": "3.13.7"
  },
  "toc": {
   "nav_menu": {},
   "number_sections": false,
   "sideBar": true,
   "skip_h1_title": true,
   "title_cell": "Table of Contents",
   "title_sidebar": "Contents",
   "toc_cell": false,
   "toc_position": {},
   "toc_section_display": "block",
   "toc_window_display": false
  }
 },
 "nbformat": 4,
 "nbformat_minor": 4
}
